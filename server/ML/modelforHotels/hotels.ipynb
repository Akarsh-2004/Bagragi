{
 "cells": [
  {
   "cell_type": "code",
   "execution_count": 48,
   "id": "c06e4ba6",
   "metadata": {},
   "outputs": [],
   "source": [
    "import pandas as pd\n",
    "import numpy as np"
   ]
  },
  {
   "cell_type": "code",
   "execution_count": 49,
   "id": "c0c0b48f",
   "metadata": {},
   "outputs": [],
   "source": [
    "df= pd.read_csv(r'../../data/enhanced_hotels_dataset.csv')"
   ]
  },
  {
   "cell_type": "code",
   "execution_count": 50,
   "id": "372617aa",
   "metadata": {},
   "outputs": [
    {
     "data": {
      "text/html": [
       "<div>\n",
       "<style scoped>\n",
       "    .dataframe tbody tr th:only-of-type {\n",
       "        vertical-align: middle;\n",
       "    }\n",
       "\n",
       "    .dataframe tbody tr th {\n",
       "        vertical-align: top;\n",
       "    }\n",
       "\n",
       "    .dataframe thead th {\n",
       "        text-align: right;\n",
       "    }\n",
       "</style>\n",
       "<table border=\"1\" class=\"dataframe\">\n",
       "  <thead>\n",
       "    <tr style=\"text-align: right;\">\n",
       "      <th></th>\n",
       "      <th>Country</th>\n",
       "      <th>City/Place</th>\n",
       "      <th>Hotel Name</th>\n",
       "      <th>Stars</th>\n",
       "      <th>Rating</th>\n",
       "      <th>Number of Reviews</th>\n",
       "      <th>Property Type</th>\n",
       "      <th>Location</th>\n",
       "      <th>Distance from Center</th>\n",
       "      <th>Avg Price per Night (USD)</th>\n",
       "      <th>Currency</th>\n",
       "      <th>Amenities</th>\n",
       "      <th>Scraped Date</th>\n",
       "    </tr>\n",
       "  </thead>\n",
       "  <tbody>\n",
       "    <tr>\n",
       "      <th>0</th>\n",
       "      <td>India</td>\n",
       "      <td>Delhi</td>\n",
       "      <td>Hotel Royal Palace A Unit Of Broadway Hotel</td>\n",
       "      <td>4.0</td>\n",
       "      <td>Scored</td>\n",
       "      <td>NaN</td>\n",
       "      <td>NaN</td>\n",
       "      <td>Mahipalpur, New Delhi</td>\n",
       "      <td>12.9 km from downtown</td>\n",
       "      <td>18.0</td>\n",
       "      <td>USD</td>\n",
       "      <td>NaN</td>\n",
       "      <td>2025-07-18 18:56:04</td>\n",
       "    </tr>\n",
       "    <tr>\n",
       "      <th>1</th>\n",
       "      <td>India</td>\n",
       "      <td>Delhi</td>\n",
       "      <td>ibis New Delhi Aerocity - An Accor Brand</td>\n",
       "      <td>4.0</td>\n",
       "      <td>Scored</td>\n",
       "      <td>NaN</td>\n",
       "      <td>NaN</td>\n",
       "      <td>Aerocity, New Delhi (Aerocity)</td>\n",
       "      <td>13.4 km from downtown</td>\n",
       "      <td>111.0</td>\n",
       "      <td>USD</td>\n",
       "      <td>NaN</td>\n",
       "      <td>2025-07-18 18:56:04</td>\n",
       "    </tr>\n",
       "    <tr>\n",
       "      <th>2</th>\n",
       "      <td>India</td>\n",
       "      <td>Delhi</td>\n",
       "      <td>The Viking - Luxury living steps away from New...</td>\n",
       "      <td>4.0</td>\n",
       "      <td>Scored</td>\n",
       "      <td>NaN</td>\n",
       "      <td>NaN</td>\n",
       "      <td>Paharganj, New Delhi (Chandni Chowk)</td>\n",
       "      <td>1.4 km from downtown</td>\n",
       "      <td>42.0</td>\n",
       "      <td>USD</td>\n",
       "      <td>NaN</td>\n",
       "      <td>2025-07-18 18:56:05</td>\n",
       "    </tr>\n",
       "    <tr>\n",
       "      <th>3</th>\n",
       "      <td>India</td>\n",
       "      <td>Delhi</td>\n",
       "      <td>The Leela Ambience Convention Hotel Delhi</td>\n",
       "      <td>5.0</td>\n",
       "      <td>Scored</td>\n",
       "      <td>NaN</td>\n",
       "      <td>NaN</td>\n",
       "      <td>New Delhi</td>\n",
       "      <td>8.3 km from downtown</td>\n",
       "      <td>183.0</td>\n",
       "      <td>USD</td>\n",
       "      <td>NaN</td>\n",
       "      <td>2025-07-18 18:56:05</td>\n",
       "    </tr>\n",
       "    <tr>\n",
       "      <th>4</th>\n",
       "      <td>India</td>\n",
       "      <td>Delhi</td>\n",
       "      <td>Le Meridien New Delhi</td>\n",
       "      <td>5.0</td>\n",
       "      <td>Scored</td>\n",
       "      <td>NaN</td>\n",
       "      <td>NaN</td>\n",
       "      <td>New Delhi</td>\n",
       "      <td>1.8 km from downtown</td>\n",
       "      <td>254.0</td>\n",
       "      <td>USD</td>\n",
       "      <td>NaN</td>\n",
       "      <td>2025-07-18 18:56:05</td>\n",
       "    </tr>\n",
       "  </tbody>\n",
       "</table>\n",
       "</div>"
      ],
      "text/plain": [
       "  Country City/Place                                         Hotel Name  \\\n",
       "0   India      Delhi        Hotel Royal Palace A Unit Of Broadway Hotel   \n",
       "1   India      Delhi           ibis New Delhi Aerocity - An Accor Brand   \n",
       "2   India      Delhi  The Viking - Luxury living steps away from New...   \n",
       "3   India      Delhi          The Leela Ambience Convention Hotel Delhi   \n",
       "4   India      Delhi                              Le Meridien New Delhi   \n",
       "\n",
       "   Stars  Rating  Number of Reviews  Property Type  \\\n",
       "0    4.0  Scored                NaN            NaN   \n",
       "1    4.0  Scored                NaN            NaN   \n",
       "2    4.0  Scored                NaN            NaN   \n",
       "3    5.0  Scored                NaN            NaN   \n",
       "4    5.0  Scored                NaN            NaN   \n",
       "\n",
       "                               Location   Distance from Center  \\\n",
       "0                 Mahipalpur, New Delhi  12.9 km from downtown   \n",
       "1        Aerocity, New Delhi (Aerocity)  13.4 km from downtown   \n",
       "2  Paharganj, New Delhi (Chandni Chowk)   1.4 km from downtown   \n",
       "3                             New Delhi   8.3 km from downtown   \n",
       "4                             New Delhi   1.8 km from downtown   \n",
       "\n",
       "   Avg Price per Night (USD) Currency  Amenities         Scraped Date  \n",
       "0                       18.0      USD        NaN  2025-07-18 18:56:04  \n",
       "1                      111.0      USD        NaN  2025-07-18 18:56:04  \n",
       "2                       42.0      USD        NaN  2025-07-18 18:56:05  \n",
       "3                      183.0      USD        NaN  2025-07-18 18:56:05  \n",
       "4                      254.0      USD        NaN  2025-07-18 18:56:05  "
      ]
     },
     "execution_count": 50,
     "metadata": {},
     "output_type": "execute_result"
    }
   ],
   "source": [
    "df.head()"
   ]
  },
  {
   "cell_type": "code",
   "execution_count": 51,
   "id": "254ce12a",
   "metadata": {},
   "outputs": [
    {
     "name": "stdout",
     "output_type": "stream",
     "text": [
      "<class 'pandas.core.frame.DataFrame'>\n",
      "RangeIndex: 8376 entries, 0 to 8375\n",
      "Data columns (total 13 columns):\n",
      " #   Column                     Non-Null Count  Dtype  \n",
      "---  ------                     --------------  -----  \n",
      " 0   Country                    8376 non-null   object \n",
      " 1   City/Place                 8376 non-null   object \n",
      " 2   Hotel Name                 8376 non-null   object \n",
      " 3   Stars                      6795 non-null   float64\n",
      " 4   Rating                     7924 non-null   object \n",
      " 5   Number of Reviews          0 non-null      float64\n",
      " 6   Property Type              0 non-null      float64\n",
      " 7   Location                   8376 non-null   object \n",
      " 8   Distance from Center       8006 non-null   object \n",
      " 9   Avg Price per Night (USD)  8371 non-null   float64\n",
      " 10  Currency                   8376 non-null   object \n",
      " 11  Amenities                  0 non-null      float64\n",
      " 12  Scraped Date               8376 non-null   object \n",
      "dtypes: float64(5), object(8)\n",
      "memory usage: 850.8+ KB\n"
     ]
    }
   ],
   "source": [
    "df.info()"
   ]
  },
  {
   "cell_type": "code",
   "execution_count": 52,
   "id": "9462cf89",
   "metadata": {},
   "outputs": [],
   "source": [
    "df.drop(columns=['Property Type'], inplace=True)\n"
   ]
  },
  {
   "cell_type": "code",
   "execution_count": 53,
   "id": "e52905ec",
   "metadata": {},
   "outputs": [],
   "source": [
    "# Drop completely useless column\n",
    "df.drop(columns=['Amenities'], inplace=True)"
   ]
  },
  {
   "cell_type": "code",
   "execution_count": 54,
   "id": "c0bd4fed",
   "metadata": {},
   "outputs": [
    {
     "name": "stdout",
     "output_type": "stream",
     "text": [
      "<class 'pandas.core.frame.DataFrame'>\n",
      "RangeIndex: 8376 entries, 0 to 8375\n",
      "Data columns (total 11 columns):\n",
      " #   Column                     Non-Null Count  Dtype  \n",
      "---  ------                     --------------  -----  \n",
      " 0   Country                    8376 non-null   object \n",
      " 1   City/Place                 8376 non-null   object \n",
      " 2   Hotel Name                 8376 non-null   object \n",
      " 3   Stars                      6795 non-null   float64\n",
      " 4   Rating                     7924 non-null   object \n",
      " 5   Number of Reviews          0 non-null      float64\n",
      " 6   Location                   8376 non-null   object \n",
      " 7   Distance from Center       8006 non-null   object \n",
      " 8   Avg Price per Night (USD)  8371 non-null   float64\n",
      " 9   Currency                   8376 non-null   object \n",
      " 10  Scraped Date               8376 non-null   object \n",
      "dtypes: float64(3), object(8)\n",
      "memory usage: 719.9+ KB\n"
     ]
    }
   ],
   "source": [
    "df.info()"
   ]
  },
  {
   "cell_type": "code",
   "execution_count": 55,
   "id": "4f704c60",
   "metadata": {},
   "outputs": [],
   "source": [
    "df.drop(columns=['Number of Reviews'], inplace=True)\n",
    "df.drop(columns=['Rating'], inplace=True)\n",
    "df.drop(columns=['Scraped Date'], inplace=True)"
   ]
  },
  {
   "cell_type": "code",
   "execution_count": 56,
   "id": "600775ba",
   "metadata": {},
   "outputs": [
    {
     "data": {
      "text/html": [
       "<div>\n",
       "<style scoped>\n",
       "    .dataframe tbody tr th:only-of-type {\n",
       "        vertical-align: middle;\n",
       "    }\n",
       "\n",
       "    .dataframe tbody tr th {\n",
       "        vertical-align: top;\n",
       "    }\n",
       "\n",
       "    .dataframe thead th {\n",
       "        text-align: right;\n",
       "    }\n",
       "</style>\n",
       "<table border=\"1\" class=\"dataframe\">\n",
       "  <thead>\n",
       "    <tr style=\"text-align: right;\">\n",
       "      <th></th>\n",
       "      <th>Country</th>\n",
       "      <th>City/Place</th>\n",
       "      <th>Hotel Name</th>\n",
       "      <th>Stars</th>\n",
       "      <th>Location</th>\n",
       "      <th>Distance from Center</th>\n",
       "      <th>Avg Price per Night (USD)</th>\n",
       "      <th>Currency</th>\n",
       "    </tr>\n",
       "  </thead>\n",
       "  <tbody>\n",
       "    <tr>\n",
       "      <th>0</th>\n",
       "      <td>India</td>\n",
       "      <td>Delhi</td>\n",
       "      <td>Hotel Royal Palace A Unit Of Broadway Hotel</td>\n",
       "      <td>4.0</td>\n",
       "      <td>Mahipalpur, New Delhi</td>\n",
       "      <td>12.9 km from downtown</td>\n",
       "      <td>18.0</td>\n",
       "      <td>USD</td>\n",
       "    </tr>\n",
       "    <tr>\n",
       "      <th>1</th>\n",
       "      <td>India</td>\n",
       "      <td>Delhi</td>\n",
       "      <td>ibis New Delhi Aerocity - An Accor Brand</td>\n",
       "      <td>4.0</td>\n",
       "      <td>Aerocity, New Delhi (Aerocity)</td>\n",
       "      <td>13.4 km from downtown</td>\n",
       "      <td>111.0</td>\n",
       "      <td>USD</td>\n",
       "    </tr>\n",
       "    <tr>\n",
       "      <th>2</th>\n",
       "      <td>India</td>\n",
       "      <td>Delhi</td>\n",
       "      <td>The Viking - Luxury living steps away from New...</td>\n",
       "      <td>4.0</td>\n",
       "      <td>Paharganj, New Delhi (Chandni Chowk)</td>\n",
       "      <td>1.4 km from downtown</td>\n",
       "      <td>42.0</td>\n",
       "      <td>USD</td>\n",
       "    </tr>\n",
       "    <tr>\n",
       "      <th>3</th>\n",
       "      <td>India</td>\n",
       "      <td>Delhi</td>\n",
       "      <td>The Leela Ambience Convention Hotel Delhi</td>\n",
       "      <td>5.0</td>\n",
       "      <td>New Delhi</td>\n",
       "      <td>8.3 km from downtown</td>\n",
       "      <td>183.0</td>\n",
       "      <td>USD</td>\n",
       "    </tr>\n",
       "    <tr>\n",
       "      <th>4</th>\n",
       "      <td>India</td>\n",
       "      <td>Delhi</td>\n",
       "      <td>Le Meridien New Delhi</td>\n",
       "      <td>5.0</td>\n",
       "      <td>New Delhi</td>\n",
       "      <td>1.8 km from downtown</td>\n",
       "      <td>254.0</td>\n",
       "      <td>USD</td>\n",
       "    </tr>\n",
       "  </tbody>\n",
       "</table>\n",
       "</div>"
      ],
      "text/plain": [
       "  Country City/Place                                         Hotel Name  \\\n",
       "0   India      Delhi        Hotel Royal Palace A Unit Of Broadway Hotel   \n",
       "1   India      Delhi           ibis New Delhi Aerocity - An Accor Brand   \n",
       "2   India      Delhi  The Viking - Luxury living steps away from New...   \n",
       "3   India      Delhi          The Leela Ambience Convention Hotel Delhi   \n",
       "4   India      Delhi                              Le Meridien New Delhi   \n",
       "\n",
       "   Stars                              Location   Distance from Center  \\\n",
       "0    4.0                 Mahipalpur, New Delhi  12.9 km from downtown   \n",
       "1    4.0        Aerocity, New Delhi (Aerocity)  13.4 km from downtown   \n",
       "2    4.0  Paharganj, New Delhi (Chandni Chowk)   1.4 km from downtown   \n",
       "3    5.0                             New Delhi   8.3 km from downtown   \n",
       "4    5.0                             New Delhi   1.8 km from downtown   \n",
       "\n",
       "   Avg Price per Night (USD) Currency  \n",
       "0                       18.0      USD  \n",
       "1                      111.0      USD  \n",
       "2                       42.0      USD  \n",
       "3                      183.0      USD  \n",
       "4                      254.0      USD  "
      ]
     },
     "execution_count": 56,
     "metadata": {},
     "output_type": "execute_result"
    }
   ],
   "source": [
    "df.head()"
   ]
  },
  {
   "cell_type": "code",
   "execution_count": 59,
   "id": "2b2fd5e6",
   "metadata": {},
   "outputs": [
    {
     "data": {
      "text/plain": [
       "array(['USD'], dtype=object)"
      ]
     },
     "execution_count": 59,
     "metadata": {},
     "output_type": "execute_result"
    }
   ],
   "source": [
    "df['Currency'].unique()"
   ]
  },
  {
   "cell_type": "code",
   "execution_count": 61,
   "id": "403ff2ff",
   "metadata": {},
   "outputs": [],
   "source": [
    "df.drop(columns=['Currency'], inplace=True)"
   ]
  },
  {
   "cell_type": "code",
   "execution_count": 62,
   "id": "3507e16e",
   "metadata": {},
   "outputs": [
    {
     "name": "stdout",
     "output_type": "stream",
     "text": [
      "<class 'pandas.core.frame.DataFrame'>\n",
      "RangeIndex: 8376 entries, 0 to 8375\n",
      "Data columns (total 7 columns):\n",
      " #   Column                     Non-Null Count  Dtype  \n",
      "---  ------                     --------------  -----  \n",
      " 0   Country                    8376 non-null   object \n",
      " 1   City/Place                 8376 non-null   object \n",
      " 2   Hotel Name                 8376 non-null   object \n",
      " 3   Stars                      6795 non-null   float64\n",
      " 4   Location                   8376 non-null   object \n",
      " 5   Distance from Center       8006 non-null   object \n",
      " 6   Avg Price per Night (USD)  8371 non-null   float64\n",
      "dtypes: float64(2), object(5)\n",
      "memory usage: 458.2+ KB\n"
     ]
    }
   ],
   "source": [
    "df.info()"
   ]
  },
  {
   "cell_type": "code",
   "execution_count": 63,
   "id": "e0320d81",
   "metadata": {},
   "outputs": [],
   "source": [
    "df['Distance from Center'] = df['Distance from Center'].str.extract(r'(\\d+\\.?\\d*)').astype(float)\n",
    "\n",
    "# Option A: Fill NaNs with median (for modeling)\n",
    "df['Distance from Center'] = df['Distance from Center'].fillna(df['Distance from Center'].median())"
   ]
  },
  {
   "cell_type": "code",
   "execution_count": 64,
   "id": "15a26bf7",
   "metadata": {},
   "outputs": [
    {
     "data": {
      "text/html": [
       "<div>\n",
       "<style scoped>\n",
       "    .dataframe tbody tr th:only-of-type {\n",
       "        vertical-align: middle;\n",
       "    }\n",
       "\n",
       "    .dataframe tbody tr th {\n",
       "        vertical-align: top;\n",
       "    }\n",
       "\n",
       "    .dataframe thead th {\n",
       "        text-align: right;\n",
       "    }\n",
       "</style>\n",
       "<table border=\"1\" class=\"dataframe\">\n",
       "  <thead>\n",
       "    <tr style=\"text-align: right;\">\n",
       "      <th></th>\n",
       "      <th>Country</th>\n",
       "      <th>City/Place</th>\n",
       "      <th>Hotel Name</th>\n",
       "      <th>Stars</th>\n",
       "      <th>Location</th>\n",
       "      <th>Distance from Center</th>\n",
       "      <th>Avg Price per Night (USD)</th>\n",
       "    </tr>\n",
       "  </thead>\n",
       "  <tbody>\n",
       "    <tr>\n",
       "      <th>0</th>\n",
       "      <td>India</td>\n",
       "      <td>Delhi</td>\n",
       "      <td>Hotel Royal Palace A Unit Of Broadway Hotel</td>\n",
       "      <td>4.0</td>\n",
       "      <td>Mahipalpur, New Delhi</td>\n",
       "      <td>12.9</td>\n",
       "      <td>18.0</td>\n",
       "    </tr>\n",
       "    <tr>\n",
       "      <th>1</th>\n",
       "      <td>India</td>\n",
       "      <td>Delhi</td>\n",
       "      <td>ibis New Delhi Aerocity - An Accor Brand</td>\n",
       "      <td>4.0</td>\n",
       "      <td>Aerocity, New Delhi (Aerocity)</td>\n",
       "      <td>13.4</td>\n",
       "      <td>111.0</td>\n",
       "    </tr>\n",
       "    <tr>\n",
       "      <th>2</th>\n",
       "      <td>India</td>\n",
       "      <td>Delhi</td>\n",
       "      <td>The Viking - Luxury living steps away from New...</td>\n",
       "      <td>4.0</td>\n",
       "      <td>Paharganj, New Delhi (Chandni Chowk)</td>\n",
       "      <td>1.4</td>\n",
       "      <td>42.0</td>\n",
       "    </tr>\n",
       "    <tr>\n",
       "      <th>3</th>\n",
       "      <td>India</td>\n",
       "      <td>Delhi</td>\n",
       "      <td>The Leela Ambience Convention Hotel Delhi</td>\n",
       "      <td>5.0</td>\n",
       "      <td>New Delhi</td>\n",
       "      <td>8.3</td>\n",
       "      <td>183.0</td>\n",
       "    </tr>\n",
       "    <tr>\n",
       "      <th>4</th>\n",
       "      <td>India</td>\n",
       "      <td>Delhi</td>\n",
       "      <td>Le Meridien New Delhi</td>\n",
       "      <td>5.0</td>\n",
       "      <td>New Delhi</td>\n",
       "      <td>1.8</td>\n",
       "      <td>254.0</td>\n",
       "    </tr>\n",
       "  </tbody>\n",
       "</table>\n",
       "</div>"
      ],
      "text/plain": [
       "  Country City/Place                                         Hotel Name  \\\n",
       "0   India      Delhi        Hotel Royal Palace A Unit Of Broadway Hotel   \n",
       "1   India      Delhi           ibis New Delhi Aerocity - An Accor Brand   \n",
       "2   India      Delhi  The Viking - Luxury living steps away from New...   \n",
       "3   India      Delhi          The Leela Ambience Convention Hotel Delhi   \n",
       "4   India      Delhi                              Le Meridien New Delhi   \n",
       "\n",
       "   Stars                              Location  Distance from Center  \\\n",
       "0    4.0                 Mahipalpur, New Delhi                  12.9   \n",
       "1    4.0        Aerocity, New Delhi (Aerocity)                  13.4   \n",
       "2    4.0  Paharganj, New Delhi (Chandni Chowk)                   1.4   \n",
       "3    5.0                             New Delhi                   8.3   \n",
       "4    5.0                             New Delhi                   1.8   \n",
       "\n",
       "   Avg Price per Night (USD)  \n",
       "0                       18.0  \n",
       "1                      111.0  \n",
       "2                       42.0  \n",
       "3                      183.0  \n",
       "4                      254.0  "
      ]
     },
     "execution_count": 64,
     "metadata": {},
     "output_type": "execute_result"
    }
   ],
   "source": [
    "df.head()"
   ]
  },
  {
   "cell_type": "code",
   "execution_count": 65,
   "id": "a8d0e8e0",
   "metadata": {},
   "outputs": [],
   "source": [
    "df['Stars'] = df['Stars'].fillna(-1)"
   ]
  },
  {
   "cell_type": "code",
   "execution_count": 66,
   "id": "a9fe2aa6",
   "metadata": {},
   "outputs": [
    {
     "name": "stdout",
     "output_type": "stream",
     "text": [
      "Stars                   0\n",
      "Distance from Center    0\n",
      "dtype: int64\n",
      "   Stars  Distance from Center\n",
      "0    4.0                  12.9\n",
      "1    4.0                  13.4\n",
      "2    4.0                   1.4\n",
      "3    5.0                   8.3\n",
      "4    5.0                   1.8\n"
     ]
    }
   ],
   "source": [
    "print(df[['Stars', 'Distance from Center']].isnull().sum())\n",
    "print(df[['Stars', 'Distance from Center']].head())\n"
   ]
  },
  {
   "cell_type": "code",
   "execution_count": 67,
   "id": "ca163f06",
   "metadata": {},
   "outputs": [
    {
     "name": "stdout",
     "output_type": "stream",
     "text": [
      "<class 'pandas.core.frame.DataFrame'>\n",
      "RangeIndex: 8376 entries, 0 to 8375\n",
      "Data columns (total 7 columns):\n",
      " #   Column                     Non-Null Count  Dtype  \n",
      "---  ------                     --------------  -----  \n",
      " 0   Country                    8376 non-null   object \n",
      " 1   City/Place                 8376 non-null   object \n",
      " 2   Hotel Name                 8376 non-null   object \n",
      " 3   Stars                      8376 non-null   float64\n",
      " 4   Location                   8376 non-null   object \n",
      " 5   Distance from Center       8376 non-null   float64\n",
      " 6   Avg Price per Night (USD)  8371 non-null   float64\n",
      "dtypes: float64(3), object(4)\n",
      "memory usage: 458.2+ KB\n"
     ]
    }
   ],
   "source": [
    "df.info()"
   ]
  },
  {
   "cell_type": "code",
   "execution_count": 68,
   "id": "9111e61d",
   "metadata": {},
   "outputs": [],
   "source": [
    "# Step 1: Define group-based imputation function\n",
    "def fill_price_by_city_and_star(df):\n",
    "    # Create a grouped median for (City, Stars)\n",
    "    grouped_medians = df.groupby(['City/Place', 'Stars'])['Avg Price per Night (USD)'].transform('median')\n",
    "    \n",
    "    # Fill missing price with the grouped median\n",
    "    df['Avg Price per Night (USD)'] = df['Avg Price per Night (USD)'].fillna(grouped_medians)\n",
    "    \n",
    "    # Optional backup fill: if some still missing, use city median\n",
    "    df['Avg Price per Night (USD)'] = df['Avg Price per Night (USD)'].fillna(\n",
    "        df.groupby('City/Place')['Avg Price per Night (USD)'].transform('median')\n",
    "    )\n",
    "    \n",
    "    return df\n",
    "\n",
    "# Step 2: Apply\n",
    "df = fill_price_by_city_and_star(df)\n"
   ]
  },
  {
   "cell_type": "code",
   "execution_count": 69,
   "id": "b5de2bc5",
   "metadata": {},
   "outputs": [
    {
     "name": "stdout",
     "output_type": "stream",
     "text": [
      "0\n"
     ]
    }
   ],
   "source": [
    "print(df['Avg Price per Night (USD)'].isnull().sum())  # should be 0\n"
   ]
  },
  {
   "cell_type": "code",
   "execution_count": 121,
   "id": "e2e9ca62",
   "metadata": {},
   "outputs": [
    {
     "name": "stdout",
     "output_type": "stream",
     "text": [
      "<class 'pandas.core.frame.DataFrame'>\n",
      "RangeIndex: 8376 entries, 0 to 8375\n",
      "Data columns (total 8 columns):\n",
      " #   Column                     Non-Null Count  Dtype  \n",
      "---  ------                     --------------  -----  \n",
      " 0   Country                    8376 non-null   object \n",
      " 1   City/Place                 8376 non-null   object \n",
      " 2   Hotel Name                 8376 non-null   object \n",
      " 3   Stars                      8376 non-null   float64\n",
      " 4   Location                   8376 non-null   object \n",
      " 5   Distance from Center       8376 non-null   float64\n",
      " 6   Avg Price per Night (USD)  8376 non-null   float64\n",
      " 7   Log_Price                  8376 non-null   float64\n",
      "dtypes: float64(4), object(4)\n",
      "memory usage: 523.6+ KB\n"
     ]
    }
   ],
   "source": [
    "df.info()"
   ]
  },
  {
   "cell_type": "code",
   "execution_count": 130,
   "id": "1fbd9fbe",
   "metadata": {},
   "outputs": [],
   "source": [
    "import seaborn as sns\n",
    "import matplotlib.pyplot as plt\n",
    "from sklearn.model_selection import train_test_split\n",
    "from sklearn.ensemble import RandomForestRegressor\n",
    "from sklearn.metrics import mean_absolute_error\n",
    "from catboost import CatBoostRegressor, Pool\n",
    "import numpy as np"
   ]
  },
  {
   "cell_type": "code",
   "execution_count": 137,
   "id": "7b98f4f3",
   "metadata": {},
   "outputs": [],
   "source": [
    "def compute_vap(row, alpha=1.2, beta=0.8, epsilon=0.1):\n",
    "    stars = row['Stars']\n",
    "    distance = row['Distance from Center']\n",
    "    price = row['Avg Price per Night (USD)']\n",
    "    \n",
    "    if stars <= 0 or distance < 0:\n",
    "        return price  # skip adjustment if values are invalid\n",
    "    \n",
    "    return price * (stars ** alpha) / ((distance + epsilon) ** beta)\n",
    "\n",
    "df['vap'] = df.apply(compute_vap, axis=1)\n"
   ]
  },
  {
   "cell_type": "code",
   "execution_count": 138,
   "id": "6e081fe8",
   "metadata": {},
   "outputs": [],
   "source": [
    "def reconstruct_price(pred_vap, stars, distance, alpha=1.2, beta=1.5, epsilon=0.3):\n",
    "    if stars == -1 or distance == -1:\n",
    "        return pred_vap  # fallback\n",
    "    return pred_vap * ((distance + epsilon) ** beta) / (stars ** alpha)\n"
   ]
  },
  {
   "cell_type": "code",
   "execution_count": 147,
   "id": "4e89f309",
   "metadata": {},
   "outputs": [],
   "source": [
    "# Define features and target\n",
    "features = ['Country', 'City/Place', 'Location', 'Stars', 'Distance from Center']\n",
    "target = 'Avg Price per Night (USD)'  # or 'Log_Price' if you model logs\n"
   ]
  },
  {
   "cell_type": "code",
   "execution_count": 171,
   "id": "0c3bf0b9",
   "metadata": {},
   "outputs": [],
   "source": [
    "from numpy import log1p, expm1\n",
    "\n",
    "X = df[features]\n",
    "y = df[target]\n",
    "y=log1p(y)\n",
    "y=np.sqrt(y)"
   ]
  },
  {
   "cell_type": "code",
   "execution_count": 172,
   "id": "3f45340b",
   "metadata": {},
   "outputs": [],
   "source": [
    "from sklearn.model_selection import train_test_split\n",
    "X_train, X_test, y_train, y_test = train_test_split(X, y, random_state=42)\n"
   ]
  },
  {
   "cell_type": "code",
   "execution_count": 173,
   "id": "cefc1f04",
   "metadata": {},
   "outputs": [
    {
     "name": "stdout",
     "output_type": "stream",
     "text": [
      "Learning rate set to 0.054737\n",
      "0:\tlearn: 0.1697207\ttotal: 77.4ms\tremaining: 1m 17s\n",
      "100:\tlearn: 0.1254990\ttotal: 4.11s\tremaining: 36.6s\n",
      "200:\tlearn: 0.1208230\ttotal: 7.93s\tremaining: 31.5s\n",
      "300:\tlearn: 0.1167325\ttotal: 11.7s\tremaining: 27.1s\n",
      "400:\tlearn: 0.1131516\ttotal: 15.6s\tremaining: 23.3s\n",
      "500:\tlearn: 0.1101400\ttotal: 19.4s\tremaining: 19.3s\n",
      "600:\tlearn: 0.1073990\ttotal: 23.1s\tremaining: 15.3s\n",
      "700:\tlearn: 0.1051231\ttotal: 26.8s\tremaining: 11.4s\n",
      "800:\tlearn: 0.1028975\ttotal: 31.3s\tremaining: 7.78s\n",
      "900:\tlearn: 0.1009270\ttotal: 36.9s\tremaining: 4.05s\n",
      "999:\tlearn: 0.0990371\ttotal: 41.7s\tremaining: 0us\n"
     ]
    },
    {
     "data": {
      "text/plain": [
       "<catboost.core.CatBoostRegressor at 0x1dc47d2a650>"
      ]
     },
     "execution_count": 173,
     "metadata": {},
     "output_type": "execute_result"
    }
   ],
   "source": [
    "\n",
    "# Categorical columns\n",
    "cat_features = ['Country', 'City/Place', 'Location']\n",
    "\n",
    "# Initialize and train CatBoost\n",
    "model = CatBoostRegressor(verbose=100)\n",
    "model.fit(X_train, y_train, cat_features=cat_features)"
   ]
  },
  {
   "cell_type": "code",
   "execution_count": 174,
   "id": "c1b754cf",
   "metadata": {},
   "outputs": [
    {
     "name": "stdout",
     "output_type": "stream",
     "text": [
      "MAE: 13.22\n",
      "RMSE: 19.16\n",
      "R²: 0.5125\n"
     ]
    },
    {
     "name": "stderr",
     "output_type": "stream",
     "text": [
      "c:\\Users\\akars\\AppData\\Local\\Programs\\Python\\Python310\\lib\\site-packages\\sklearn\\metrics\\_regression.py:492: FutureWarning: 'squared' is deprecated in version 1.4 and will be removed in 1.6. To calculate the root mean squared error, use the function'root_mean_squared_error'.\n",
      "  warnings.warn(\n"
     ]
    }
   ],
   "source": [
    "from sklearn.metrics import mean_absolute_error, mean_squared_error, r2_score\n",
    "import numpy as np\n",
    "\n",
    "# Predictions (log scale)\n",
    "y_pred = model.predict(X_test)\n",
    "\n",
    "# Convert back to original scale\n",
    "y_test_actual = np.expm1(y_test)\n",
    "y_pred_actual = np.expm1(y_pred)\n",
    "y_test_actual = (y_test_actual)*(y_test_actual)\n",
    "y_pred_actual = (y_pred_actual)*(y_pred_actual)\n",
    "\n",
    "# Evaluate\n",
    "mae = mean_absolute_error(y_test_actual, y_pred_actual)\n",
    "rmse = mean_squared_error(y_test_actual, y_pred_actual, squared=False)\n",
    "r2 = r2_score(y_test_actual, y_pred_actual)\n",
    "\n",
    "print(f\"MAE: {mae:.2f}\")\n",
    "print(f\"RMSE: {rmse:.2f}\")\n",
    "print(f\"R²: {r2:.4f}\")\n"
   ]
  },
  {
   "cell_type": "code",
   "execution_count": 175,
   "id": "2cc86230",
   "metadata": {},
   "outputs": [],
   "source": [
    "import pandas as pd\n",
    "\n",
    "sample_data = pd.DataFrame([\n",
    "    {\n",
    "        'Country': 'India',\n",
    "        'City/Place': 'Mumbai',\n",
    "        'Location': 'Andheri',\n",
    "        'Stars': 4,\n",
    "        'Distance from Center': 3.2\n",
    "    },\n",
    "    {\n",
    "        'Country': 'India',\n",
    "        'City/Place': 'Delhi',\n",
    "        'Location': 'Connaught Place',\n",
    "        'Stars': 5,\n",
    "        'Distance from Center': 1.0\n",
    "    },\n",
    "    {\n",
    "        'Country': 'India',\n",
    "        'City/Place': 'Jaipur',\n",
    "        'Location': 'Bani Park',\n",
    "        'Stars': 3,\n",
    "        'Distance from Center': 2.5\n",
    "    },\n",
    "    {\n",
    "        'Country': 'India',\n",
    "        'City/Place': 'Bangalore',\n",
    "        'Location': 'Whitefield',\n",
    "        'Stars': 4,\n",
    "        'Distance from Center': 10.0\n",
    "    },\n",
    "    {\n",
    "        'Country': 'India',\n",
    "        'City/Place': 'Chennai',\n",
    "        'Location': 'T Nagar',\n",
    "        'Stars': 2,\n",
    "        'Distance from Center': 4.8\n",
    "    }\n",
    "])\n"
   ]
  },
  {
   "cell_type": "code",
   "execution_count": 176,
   "id": "d455b1df",
   "metadata": {},
   "outputs": [
    {
     "name": "stdout",
     "output_type": "stream",
     "text": [
      "[57.64832476 81.00108163 43.93644746 57.21748692 41.89473753]\n"
     ]
    }
   ],
   "source": [
    "y_pred_test = model.predict(sample_data)\n",
    "y_pred_actual = np.expm1(y_pred_test)\n",
    "y_pred_actual = y_pred_actual * y_pred_actual  # Inverse of sqrt(log1p(price))\n",
    "\n",
    "print(y_pred_actual)\n"
   ]
  },
  {
   "cell_type": "code",
   "execution_count": 177,
   "id": "96895b27",
   "metadata": {},
   "outputs": [],
   "source": [
    "sample_data = pd.DataFrame([\n",
    "    {'Country': 'India', 'City/Place': 'Delhi', 'Location': 'Connaught Place', 'Stars': 4.0, 'Distance from Center': 2.5},\n",
    "    {'Country': 'USA', 'City/Place': 'New York', 'Location': 'Manhattan', 'Stars': 5.0, 'Distance from Center': 1.0},\n",
    "    {'Country': 'France', 'City/Place': 'Paris', 'Location': 'Champs-Élysées', 'Stars': 3.0, 'Distance from Center': 3.2},\n",
    "    {'Country': 'Japan', 'City/Place': 'Tokyo', 'Location': 'Shinjuku', 'Stars': 4.5, 'Distance from Center': 1.5},\n",
    "    {'Country': 'Brazil', 'City/Place': 'Rio de Janeiro', 'Location': 'Copacabana', 'Stars': 3.5, 'Distance from Center': 2.0}\n",
    "])\n"
   ]
  },
  {
   "cell_type": "code",
   "execution_count": 178,
   "id": "9ec8f9e1",
   "metadata": {},
   "outputs": [
    {
     "name": "stdout",
     "output_type": "stream",
     "text": [
      "[56.22650376 99.78418126 83.34945262 71.68764752 64.58960136]\n"
     ]
    }
   ],
   "source": [
    "# Predict on new samples\n",
    "log_preds = model.predict(sample_data)\n",
    "\n",
    "# Inverse transform (undo sqrt and log1p)\n",
    "pred_prices = (np.expm1(log_preds))**2\n",
    "print(pred_prices)\n"
   ]
  },
  {
   "cell_type": "code",
   "execution_count": 179,
   "id": "e33e138a",
   "metadata": {},
   "outputs": [
    {
     "data": {
      "text/plain": [
       "['hotel_price_model.pkl']"
      ]
     },
     "execution_count": 179,
     "metadata": {},
     "output_type": "execute_result"
    }
   ],
   "source": [
    "# Save as pickle (useful for Python apps)\n",
    "import joblib\n",
    "joblib.dump(model, \"hotel_price_model.pkl\")\n"
   ]
  },
  {
   "cell_type": "code",
   "execution_count": null,
   "id": "0172ba3e",
   "metadata": {},
   "outputs": [],
   "source": []
  }
 ],
 "metadata": {
  "kernelspec": {
   "display_name": "Python 3",
   "language": "python",
   "name": "python3"
  },
  "language_info": {
   "codemirror_mode": {
    "name": "ipython",
    "version": 3
   },
   "file_extension": ".py",
   "mimetype": "text/x-python",
   "name": "python",
   "nbconvert_exporter": "python",
   "pygments_lexer": "ipython3",
   "version": "3.10.11"
  }
 },
 "nbformat": 4,
 "nbformat_minor": 5
}
